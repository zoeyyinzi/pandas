{
 "cells": [
  {
   "cell_type": "code",
   "execution_count": 1,
   "id": "ee6a1165",
   "metadata": {},
   "outputs": [],
   "source": [
    "import pandas as pd"
   ]
  },
  {
   "cell_type": "code",
   "execution_count": 2,
   "id": "5c0c3719",
   "metadata": {},
   "outputs": [
    {
     "name": "stdout",
     "output_type": "stream",
     "text": [
      "              Name and Grant\n",
      "0  Adam White - ES-1234-5678\n",
      "1  Jack Jones - ES-2234-9876\n",
      "2         Andy Law - EIP-111\n",
      "3  Mike Miles - ES-2222-3333\n"
     ]
    }
   ],
   "source": [
    "df = pd.read_csv('Demo.csv')\n",
    "print(df)"
   ]
  },
  {
   "cell_type": "code",
   "execution_count": 3,
   "id": "57b9524e",
   "metadata": {},
   "outputs": [
    {
     "name": "stdout",
     "output_type": "stream",
     "text": [
      "Index(['Name and Grant'], dtype='object')\n"
     ]
    }
   ],
   "source": [
    "print(df.columns)"
   ]
  },
  {
   "cell_type": "code",
   "execution_count": 4,
   "id": "9944c22c",
   "metadata": {},
   "outputs": [
    {
     "data": {
      "text/plain": [
       "0    [Adam White, ES-1234-5678]\n",
       "1    [Jack Jones, ES-2234-9876]\n",
       "2           [Andy Law, EIP-111]\n",
       "3    [Mike Miles, ES-2222-3333]\n",
       "Name: Name and Grant, dtype: object"
      ]
     },
     "execution_count": 4,
     "metadata": {},
     "output_type": "execute_result"
    }
   ],
   "source": [
    "df['Name and Grant'].str.split(' - ')"
   ]
  },
  {
   "cell_type": "code",
   "execution_count": 5,
   "id": "b1a69dc0",
   "metadata": {},
   "outputs": [
    {
     "data": {
      "text/html": [
       "<div>\n",
       "<style scoped>\n",
       "    .dataframe tbody tr th:only-of-type {\n",
       "        vertical-align: middle;\n",
       "    }\n",
       "\n",
       "    .dataframe tbody tr th {\n",
       "        vertical-align: top;\n",
       "    }\n",
       "\n",
       "    .dataframe thead th {\n",
       "        text-align: right;\n",
       "    }\n",
       "</style>\n",
       "<table border=\"1\" class=\"dataframe\">\n",
       "  <thead>\n",
       "    <tr style=\"text-align: right;\">\n",
       "      <th></th>\n",
       "      <th>Name and Grant</th>\n",
       "      <th>Name</th>\n",
       "      <th>Grant</th>\n",
       "    </tr>\n",
       "  </thead>\n",
       "  <tbody>\n",
       "    <tr>\n",
       "      <th>0</th>\n",
       "      <td>Adam White - ES-1234-5678</td>\n",
       "      <td>Adam White</td>\n",
       "      <td>ES-1234-5678</td>\n",
       "    </tr>\n",
       "    <tr>\n",
       "      <th>1</th>\n",
       "      <td>Jack Jones - ES-2234-9876</td>\n",
       "      <td>Jack Jones</td>\n",
       "      <td>ES-2234-9876</td>\n",
       "    </tr>\n",
       "    <tr>\n",
       "      <th>2</th>\n",
       "      <td>Andy Law - EIP-111</td>\n",
       "      <td>Andy Law</td>\n",
       "      <td>EIP-111</td>\n",
       "    </tr>\n",
       "    <tr>\n",
       "      <th>3</th>\n",
       "      <td>Mike Miles - ES-2222-3333</td>\n",
       "      <td>Mike Miles</td>\n",
       "      <td>ES-2222-3333</td>\n",
       "    </tr>\n",
       "  </tbody>\n",
       "</table>\n",
       "</div>"
      ],
      "text/plain": [
       "              Name and Grant        Name         Grant\n",
       "0  Adam White - ES-1234-5678  Adam White  ES-1234-5678\n",
       "1  Jack Jones - ES-2234-9876  Jack Jones  ES-2234-9876\n",
       "2         Andy Law - EIP-111    Andy Law       EIP-111\n",
       "3  Mike Miles - ES-2222-3333  Mike Miles  ES-2222-3333"
      ]
     },
     "execution_count": 5,
     "metadata": {},
     "output_type": "execute_result"
    }
   ],
   "source": [
    "df[['Name','Grant']] = df['Name and Grant'].str.split(' - ', expand=True)\n",
    "df"
   ]
  },
  {
   "cell_type": "code",
   "execution_count": 6,
   "id": "0e2aa831",
   "metadata": {},
   "outputs": [
    {
     "data": {
      "text/html": [
       "<div>\n",
       "<style scoped>\n",
       "    .dataframe tbody tr th:only-of-type {\n",
       "        vertical-align: middle;\n",
       "    }\n",
       "\n",
       "    .dataframe tbody tr th {\n",
       "        vertical-align: top;\n",
       "    }\n",
       "\n",
       "    .dataframe thead th {\n",
       "        text-align: right;\n",
       "    }\n",
       "</style>\n",
       "<table border=\"1\" class=\"dataframe\">\n",
       "  <thead>\n",
       "    <tr style=\"text-align: right;\">\n",
       "      <th></th>\n",
       "      <th>Name and Grant</th>\n",
       "      <th>Name</th>\n",
       "      <th>Grant</th>\n",
       "      <th>First Name</th>\n",
       "      <th>Last Name</th>\n",
       "    </tr>\n",
       "  </thead>\n",
       "  <tbody>\n",
       "    <tr>\n",
       "      <th>0</th>\n",
       "      <td>Adam White - ES-1234-5678</td>\n",
       "      <td>Adam White</td>\n",
       "      <td>ES-1234-5678</td>\n",
       "      <td>Adam</td>\n",
       "      <td>White</td>\n",
       "    </tr>\n",
       "    <tr>\n",
       "      <th>1</th>\n",
       "      <td>Jack Jones - ES-2234-9876</td>\n",
       "      <td>Jack Jones</td>\n",
       "      <td>ES-2234-9876</td>\n",
       "      <td>Jack</td>\n",
       "      <td>Jones</td>\n",
       "    </tr>\n",
       "    <tr>\n",
       "      <th>2</th>\n",
       "      <td>Andy Law - EIP-111</td>\n",
       "      <td>Andy Law</td>\n",
       "      <td>EIP-111</td>\n",
       "      <td>Andy</td>\n",
       "      <td>Law</td>\n",
       "    </tr>\n",
       "    <tr>\n",
       "      <th>3</th>\n",
       "      <td>Mike Miles - ES-2222-3333</td>\n",
       "      <td>Mike Miles</td>\n",
       "      <td>ES-2222-3333</td>\n",
       "      <td>Mike</td>\n",
       "      <td>Miles</td>\n",
       "    </tr>\n",
       "  </tbody>\n",
       "</table>\n",
       "</div>"
      ],
      "text/plain": [
       "              Name and Grant        Name         Grant First Name Last Name\n",
       "0  Adam White - ES-1234-5678  Adam White  ES-1234-5678       Adam     White\n",
       "1  Jack Jones - ES-2234-9876  Jack Jones  ES-2234-9876       Jack     Jones\n",
       "2         Andy Law - EIP-111    Andy Law       EIP-111       Andy       Law\n",
       "3  Mike Miles - ES-2222-3333  Mike Miles  ES-2222-3333       Mike     Miles"
      ]
     },
     "execution_count": 6,
     "metadata": {},
     "output_type": "execute_result"
    }
   ],
   "source": [
    "df[['First Name', 'Last Name']] = df['Name'].str.split(' ', expand = True)\n",
    "df"
   ]
  },
  {
   "cell_type": "code",
   "execution_count": 7,
   "id": "12b67c4c",
   "metadata": {},
   "outputs": [
    {
     "data": {
      "text/html": [
       "<div>\n",
       "<style scoped>\n",
       "    .dataframe tbody tr th:only-of-type {\n",
       "        vertical-align: middle;\n",
       "    }\n",
       "\n",
       "    .dataframe tbody tr th {\n",
       "        vertical-align: top;\n",
       "    }\n",
       "\n",
       "    .dataframe thead th {\n",
       "        text-align: right;\n",
       "    }\n",
       "</style>\n",
       "<table border=\"1\" class=\"dataframe\">\n",
       "  <thead>\n",
       "    <tr style=\"text-align: right;\">\n",
       "      <th></th>\n",
       "      <th>Name and Grant</th>\n",
       "      <th>Name</th>\n",
       "      <th>Grant</th>\n",
       "      <th>First Name</th>\n",
       "      <th>Last Name</th>\n",
       "      <th>Payroll Name</th>\n",
       "    </tr>\n",
       "  </thead>\n",
       "  <tbody>\n",
       "    <tr>\n",
       "      <th>0</th>\n",
       "      <td>Adam White - ES-1234-5678</td>\n",
       "      <td>Adam White</td>\n",
       "      <td>ES-1234-5678</td>\n",
       "      <td>Adam</td>\n",
       "      <td>White</td>\n",
       "      <td>White, Adam</td>\n",
       "    </tr>\n",
       "    <tr>\n",
       "      <th>1</th>\n",
       "      <td>Jack Jones - ES-2234-9876</td>\n",
       "      <td>Jack Jones</td>\n",
       "      <td>ES-2234-9876</td>\n",
       "      <td>Jack</td>\n",
       "      <td>Jones</td>\n",
       "      <td>Jones, Jack</td>\n",
       "    </tr>\n",
       "    <tr>\n",
       "      <th>2</th>\n",
       "      <td>Andy Law - EIP-111</td>\n",
       "      <td>Andy Law</td>\n",
       "      <td>EIP-111</td>\n",
       "      <td>Andy</td>\n",
       "      <td>Law</td>\n",
       "      <td>Law, Andy</td>\n",
       "    </tr>\n",
       "    <tr>\n",
       "      <th>3</th>\n",
       "      <td>Mike Miles - ES-2222-3333</td>\n",
       "      <td>Mike Miles</td>\n",
       "      <td>ES-2222-3333</td>\n",
       "      <td>Mike</td>\n",
       "      <td>Miles</td>\n",
       "      <td>Miles, Mike</td>\n",
       "    </tr>\n",
       "  </tbody>\n",
       "</table>\n",
       "</div>"
      ],
      "text/plain": [
       "              Name and Grant        Name         Grant First Name Last Name  \\\n",
       "0  Adam White - ES-1234-5678  Adam White  ES-1234-5678       Adam     White   \n",
       "1  Jack Jones - ES-2234-9876  Jack Jones  ES-2234-9876       Jack     Jones   \n",
       "2         Andy Law - EIP-111    Andy Law       EIP-111       Andy       Law   \n",
       "3  Mike Miles - ES-2222-3333  Mike Miles  ES-2222-3333       Mike     Miles   \n",
       "\n",
       "  Payroll Name  \n",
       "0  White, Adam  \n",
       "1  Jones, Jack  \n",
       "2    Law, Andy  \n",
       "3  Miles, Mike  "
      ]
     },
     "execution_count": 7,
     "metadata": {},
     "output_type": "execute_result"
    }
   ],
   "source": [
    "df['Payroll Name'] = df['Last Name'] + ', ' + df['First Name']\n",
    "df"
   ]
  },
  {
   "cell_type": "code",
   "execution_count": 8,
   "id": "8e8d4ee1",
   "metadata": {},
   "outputs": [
    {
     "name": "stdout",
     "output_type": "stream",
     "text": [
      "  Payroll Name  Home Department Code Home Department Description  \\\n",
      "0  White, Adam                  4001                    Platform   \n",
      "1  Jones, Jack                  5001                   Marketing   \n",
      "2  Miles, Mike                  4100                       Sales   \n",
      "3    Law, Andy                  4200                     Channel   \n",
      "4    Lin, Lily                  6001                          HR   \n",
      "\n",
      "  Location Description  \n",
      "0          Los Angeles  \n",
      "1             New York  \n",
      "2          Los Angeles  \n",
      "3             New York  \n",
      "4              Chicago  \n"
     ]
    }
   ],
   "source": [
    "df2 = pd.read_csv('HC.csv')\n",
    "print(df2)"
   ]
  },
  {
   "cell_type": "code",
   "execution_count": 9,
   "id": "4939e812",
   "metadata": {},
   "outputs": [
    {
     "data": {
      "text/html": [
       "<div>\n",
       "<style scoped>\n",
       "    .dataframe tbody tr th:only-of-type {\n",
       "        vertical-align: middle;\n",
       "    }\n",
       "\n",
       "    .dataframe tbody tr th {\n",
       "        vertical-align: top;\n",
       "    }\n",
       "\n",
       "    .dataframe thead th {\n",
       "        text-align: right;\n",
       "    }\n",
       "</style>\n",
       "<table border=\"1\" class=\"dataframe\">\n",
       "  <thead>\n",
       "    <tr style=\"text-align: right;\">\n",
       "      <th></th>\n",
       "      <th>Name and Grant</th>\n",
       "      <th>Name</th>\n",
       "      <th>Grant</th>\n",
       "      <th>First Name</th>\n",
       "      <th>Last Name</th>\n",
       "      <th>Payroll Name</th>\n",
       "      <th>Home Department Code</th>\n",
       "      <th>Home Department Description</th>\n",
       "      <th>Location Description</th>\n",
       "    </tr>\n",
       "  </thead>\n",
       "  <tbody>\n",
       "    <tr>\n",
       "      <th>0</th>\n",
       "      <td>Adam White - ES-1234-5678</td>\n",
       "      <td>Adam White</td>\n",
       "      <td>ES-1234-5678</td>\n",
       "      <td>Adam</td>\n",
       "      <td>White</td>\n",
       "      <td>White, Adam</td>\n",
       "      <td>4001</td>\n",
       "      <td>Platform</td>\n",
       "      <td>Los Angeles</td>\n",
       "    </tr>\n",
       "    <tr>\n",
       "      <th>1</th>\n",
       "      <td>Jack Jones - ES-2234-9876</td>\n",
       "      <td>Jack Jones</td>\n",
       "      <td>ES-2234-9876</td>\n",
       "      <td>Jack</td>\n",
       "      <td>Jones</td>\n",
       "      <td>Jones, Jack</td>\n",
       "      <td>5001</td>\n",
       "      <td>Marketing</td>\n",
       "      <td>New York</td>\n",
       "    </tr>\n",
       "    <tr>\n",
       "      <th>2</th>\n",
       "      <td>Andy Law - EIP-111</td>\n",
       "      <td>Andy Law</td>\n",
       "      <td>EIP-111</td>\n",
       "      <td>Andy</td>\n",
       "      <td>Law</td>\n",
       "      <td>Law, Andy</td>\n",
       "      <td>4200</td>\n",
       "      <td>Channel</td>\n",
       "      <td>New York</td>\n",
       "    </tr>\n",
       "    <tr>\n",
       "      <th>3</th>\n",
       "      <td>Mike Miles - ES-2222-3333</td>\n",
       "      <td>Mike Miles</td>\n",
       "      <td>ES-2222-3333</td>\n",
       "      <td>Mike</td>\n",
       "      <td>Miles</td>\n",
       "      <td>Miles, Mike</td>\n",
       "      <td>4100</td>\n",
       "      <td>Sales</td>\n",
       "      <td>Los Angeles</td>\n",
       "    </tr>\n",
       "  </tbody>\n",
       "</table>\n",
       "</div>"
      ],
      "text/plain": [
       "              Name and Grant        Name         Grant First Name Last Name  \\\n",
       "0  Adam White - ES-1234-5678  Adam White  ES-1234-5678       Adam     White   \n",
       "1  Jack Jones - ES-2234-9876  Jack Jones  ES-2234-9876       Jack     Jones   \n",
       "2         Andy Law - EIP-111    Andy Law       EIP-111       Andy       Law   \n",
       "3  Mike Miles - ES-2222-3333  Mike Miles  ES-2222-3333       Mike     Miles   \n",
       "\n",
       "  Payroll Name  Home Department Code Home Department Description  \\\n",
       "0  White, Adam                  4001                    Platform   \n",
       "1  Jones, Jack                  5001                   Marketing   \n",
       "2    Law, Andy                  4200                     Channel   \n",
       "3  Miles, Mike                  4100                       Sales   \n",
       "\n",
       "  Location Description  \n",
       "0          Los Angeles  \n",
       "1             New York  \n",
       "2             New York  \n",
       "3          Los Angeles  "
      ]
     },
     "execution_count": 9,
     "metadata": {},
     "output_type": "execute_result"
    }
   ],
   "source": [
    "Left_join = pd.merge(df,\n",
    "                    df2,\n",
    "                    on = 'Payroll Name',\n",
    "                    how = 'left')\n",
    "Left_join"
   ]
  },
  {
   "cell_type": "code",
   "execution_count": null,
   "id": "bd9ca481",
   "metadata": {},
   "outputs": [],
   "source": []
  }
 ],
 "metadata": {
  "kernelspec": {
   "display_name": "Python 3",
   "language": "python",
   "name": "python3"
  },
  "language_info": {
   "codemirror_mode": {
    "name": "ipython",
    "version": 3
   },
   "file_extension": ".py",
   "mimetype": "text/x-python",
   "name": "python",
   "nbconvert_exporter": "python",
   "pygments_lexer": "ipython3",
   "version": "3.8.8"
  }
 },
 "nbformat": 4,
 "nbformat_minor": 5
}
